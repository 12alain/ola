{
 "cells": [
  {
   "cell_type": "code",
   "execution_count": null,
   "id": "0412f3d4",
   "metadata": {},
   "outputs": [],
   "source": [
    "print('Hello, world!')"
   ]
  }
 ],
 "metadata": {},
 "nbformat": 4,
 "nbformat_minor": 5
}
